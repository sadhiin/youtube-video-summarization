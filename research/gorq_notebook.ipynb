{
 "cells": [
  {
   "cell_type": "code",
   "execution_count": 9,
   "id": "0f8b14a2",
   "metadata": {},
   "outputs": [
    {
     "name": "stderr",
     "output_type": "stream",
     "text": [
      "/home/zeus/miniconda3/envs/cloudspace/lib/python3.12/site-packages/pydantic/_internal/_config.py:373: UserWarning: Valid config keys have changed in V2:\n",
      "* 'orm_mode' has been renamed to 'from_attributes'\n",
      "  warnings.warn(message, UserWarning)\n"
     ]
    }
   ],
   "source": [
    "from pydantic import BaseModel, field_validator\n",
    "from typing import Optional\n",
    "import os\n",
    "import time\n",
    "from enum import Enum\n",
    "from uuid import uuid4\n",
    "\n",
    "\n",
    "class MediaType(str, Enum):\n",
    "    \"\"\"Types of media that can be downloaded.\"\"\"\n",
    "    AUDIO = \"audio\"\n",
    "\n",
    "class YouTubeDownloadConfig(BaseModel):\n",
    "    \"\"\"Configuration for YouTube download operations.\"\"\"\n",
    "    url: str\n",
    "    media_type: MediaType = MediaType.AUDIO\n",
    "    output_directory: str = \"downloads\"\n",
    "    output_filename: Optional[str] = None\n",
    "\n",
    "    @field_validator('url')\n",
    "    def validate_youtube_url(cls, v):\n",
    "        if 'youtube.com' not in v and 'youtu.be' not in v:\n",
    "            raise ValueError('URL must be a valid YouTube URL')\n",
    "        return v\n",
    "\n",
    "\n",
    "class YouTubeMedia(BaseModel):\n",
    "    \"\"\"Model to store YouTube media metadata and file paths.\"\"\"\n",
    "    title: str\n",
    "    author: str\n",
    "    audio_path: Optional[str] = None\n",
    "    transcript_path: Optional[str] = None\n",
    "\n",
    "    class Config:\n",
    "        orm_mode = True  # For future ORM integration"
   ]
  },
  {
   "cell_type": "code",
   "execution_count": 4,
   "id": "ee27fcca",
   "metadata": {},
   "outputs": [],
   "source": [
    "from pytubefix import YouTube\n",
    "from pytubefix.cli import on_progress\n",
    "\n",
    "class YouTubeDownloader:\n",
    "    \"\"\"Class to handle downloading YouTube videos and audio.\"\"\"\n",
    "\n",
    "    def __init__(self, config: YouTubeDownloadConfig):\n",
    "        self.config = config\n",
    "        self.yt = YouTube(config.url, on_progress_callback=on_progress)\n",
    "\n",
    "    def _get_filename(self):\n",
    "        \"\"\"Generate a random name for the audio file and ensure the directory exists.\"\"\"\n",
    "        if not os.path.exists(self.config.output_directory):\n",
    "            os.makedirs(self.config.output_directory, exist_ok=True)\n",
    "\n",
    "        filename = f\"{uuid4()}.mp3\"\n",
    "        return self.config.output_directory, filename\n",
    "\n",
    "\n",
    "    def __download_audio_file(self):\n",
    "        audio_stream = self.yt.streams.filter(only_audio=True).order_by('abr').last()\n",
    "        output_path, filename = self._get_filename()\n",
    "\n",
    "        print(f\"Downloading audio: {self.yt.title}\")\n",
    "        audio_stream.download(output_path=output_path, filename=filename)\n",
    "\n",
    "        final_audio_path = os.path.join(output_path, filename)\n",
    "        print(f\"Audio saved to: {final_audio_path}\")\n",
    "\n",
    "        return final_audio_path\n",
    "\n",
    "\n",
    "    def get_audio(self) -> YouTubeMedia:\n",
    "        \"\"\"Extract metadata from YouTube video.\"\"\"\n",
    "        try:\n",
    "\n",
    "            return YouTubeMedia(\n",
    "                title=self.yt.title,\n",
    "                author=self.yt.author,\n",
    "                audio_path=self.__download_audio_file(),\n",
    "                transcript_path=None\n",
    "            )\n",
    "        except Exception as e:\n",
    "            print(f\"Error: {e}\")\n",
    "            return None\n"
   ]
  },
  {
   "cell_type": "code",
   "execution_count": 5,
   "id": "f3816f71",
   "metadata": {},
   "outputs": [],
   "source": [
    "audio_downloder = YouTubeDownloader(\n",
    "    YouTubeDownloadConfig(\n",
    "        url=\"https://youtu.be/Hy8fB32GZoc?si=HWcKu2GlK4owxx3f\",\n",
    "        media_type=MediaType.AUDIO,\n",
    "    )\n",
    ")\n"
   ]
  },
  {
   "cell_type": "code",
   "execution_count": 6,
   "id": "b28de891",
   "metadata": {},
   "outputs": [
    {
     "name": "stdout",
     "output_type": "stream",
     "text": [
      "Downloading audio: Nuclear Fusion Explained\n",
      "Audio saved to: downloads/75758451-301b-496e-80e4-1c1e14b71e8c.mp3\n"
     ]
    }
   ],
   "source": [
    "file_info = audio_downloder.get_audio()"
   ]
  },
  {
   "cell_type": "code",
   "execution_count": 8,
   "id": "ac9b3f1e",
   "metadata": {},
   "outputs": [
    {
     "data": {
      "text/plain": [
       "YouTubeMedia(title='Nuclear Fusion Explained', author='ClickView', audio_path='downloads/75758451-301b-496e-80e4-1c1e14b71e8c.mp3', transcript_path=None)"
      ]
     },
     "execution_count": 8,
     "metadata": {},
     "output_type": "execute_result"
    }
   ],
   "source": [
    "file_info"
   ]
  },
  {
   "cell_type": "code",
   "execution_count": null,
   "id": "6815b35c",
   "metadata": {},
   "outputs": [],
   "source": [
    "import os\n",
    "import json\n",
    "import time\n",
    "from groq import Groq\n",
    "from dotenv import load_dotenv\n",
    "load_dotenv()\n",
    "\n",
    "groq_client = Groq()\n",
    "\n",
    "def get_trasnscription(media_info: YouTubeMedia) -> YouTubeMedia:\n",
    "    \"\"\"\n",
    "    Transcribes the audio file specified in media_info using Groq API\n",
    "    and saves the transcription to a JSON file.\n",
    "\n",
    "    Args:\n",
    "        media_info: A YouTubeMedia object containing the audio file path.\n",
    "\n",
    "    Returns:\n",
    "        The updated YouTubeMedia object with the transcript_path set.\n",
    "    \"\"\"\n",
    "    try:\n",
    "        # Define the directory and filename for the transcription\n",
    "        base_dir = os.path.dirname(media_info.audio_path)\n",
    "        transcription_dir = os.path.join(base_dir, 'transcription')\n",
    "        audio_filename = os.path.basename(media_info.audio_path)\n",
    "        transcription_filename = f\"{os.path.splitext(audio_filename)[0]}.json\"\n",
    "        transcription_path = os.path.join(transcription_dir, transcription_filename)\n",
    "\n",
    "        # Ensure the transcription directory exists\n",
    "        os.makedirs(transcription_dir, exist_ok=True)\n",
    "        print(f\"Transcription directory: {transcription_dir}\")\n",
    "        print(f\"Transcription path: {transcription_path}\")\n",
    "\n",
    "\n",
    "        print(f\"Transcribing audio file: {media_info.audio_path}\")\n",
    "        with open(media_info.audio_path, \"rb\") as audio_file:\n",
    "            transcription = groq_client.audio.transcriptions.create(\n",
    "                file=(audio_filename, audio_file.read()), # Pass filename and content\n",
    "                model=\"whisper-large-v3-turbo\",\n",
    "                # prompt=\"Transcribe the audio\", # Optional: Add prompt if needed\n",
    "                response_format=\"verbose_json\",\n",
    "                # language=\"en\",\n",
    "                temperature=0.0\n",
    "            )\n",
    "\n",
    "        print(f\"Saving transcription to: {transcription_path}\")\n",
    "        try:\n",
    "            transcription_data = transcription.text.model_dump_json()\n",
    "        except AttributeError:\n",
    "            transcription_data = transcription\n",
    "\n",
    "\n",
    "        with open(transcription_path, \"w\", encoding='utf-8') as f:\n",
    "            if isinstance(transcription_data, str):\n",
    "                f.write(transcription_data)\n",
    "            else:\n",
    "\n",
    "                json.dump(transcription_data, f, indent=4, ensure_ascii=False)\n",
    "\n",
    "\n",
    "        # Update the media_info object\n",
    "        media_info.transcript_path = transcription_path\n",
    "        print(\"Transcription complete.\")\n",
    "\n",
    "    except FileNotFoundError:\n",
    "        print(f\"Error: Audio file not found at {media_info.audio_path}\")\n",
    "        media_info.transcript_path = None\n",
    "    except Exception as e:\n",
    "        print(f\"An error occurred during transcription: {e}\")\n",
    "        media_info.transcript_path = None\n",
    "\n",
    "    return media_info"
   ]
  },
  {
   "cell_type": "code",
   "execution_count": 18,
   "id": "b724e46a",
   "metadata": {},
   "outputs": [
    {
     "name": "stdout",
     "output_type": "stream",
     "text": [
      "Transcription directory: downloads/transcription\n",
      "Transcription path: downloads/transcription/75758451-301b-496e-80e4-1c1e14b71e8c.json\n",
      "Transcribing audio file: downloads/75758451-301b-496e-80e4-1c1e14b71e8c.mp3\n"
     ]
    },
    {
     "name": "stdout",
     "output_type": "stream",
     "text": [
      "Saving transcription to: downloads/transcription/75758451-301b-496e-80e4-1c1e14b71e8c.json\n",
      "Transcription complete.\n"
     ]
    }
   ],
   "source": [
    "transcripted_file_info = get_trasnscription(file_info)"
   ]
  },
  {
   "cell_type": "code",
   "execution_count": 19,
   "id": "b3db9a5d",
   "metadata": {},
   "outputs": [
    {
     "data": {
      "text/plain": [
       "YouTubeMedia(title='Nuclear Fusion Explained', author='ClickView', audio_path='downloads/75758451-301b-496e-80e4-1c1e14b71e8c.mp3', transcript_path='downloads/transcription/75758451-301b-496e-80e4-1c1e14b71e8c.json')"
      ]
     },
     "execution_count": 19,
     "metadata": {},
     "output_type": "execute_result"
    }
   ],
   "source": [
    "transcripted_file_info"
   ]
  },
  {
   "cell_type": "code",
   "execution_count": 21,
   "metadata": {},
   "outputs": [
    {
     "name": "stdout",
     "output_type": "stream",
     "text": [
      " The power of stars like our Sun is the result of small atoms combining into larger ones. It's a nuclear reaction known as fusion. Shining down in the form of electromagnetic radiation, some of which we see as sunlight, it powers our planet's weather, drives its water cycle, and supplies the energy needed for life. This energy comes from a rather surprising place. It comes from the mass of particles that make up the sun. Sun. Take the nucleus of a certain type of helium atom, for example, also called an alpha particle. It's made of two protons and two neutrons. Its atomic mass is 4.00153 units. But if you weighed the masses of two protons and two neutrons on their own, they'd add up to a total of 4.03188 units. The difference is tiny, but some of that mass changed into other forms of energy when the nucleons were squeezed close together. This is called an atom's binding energy. Different elements have different amounts of binding energy, and we can compare them on a graph. A single proton on its own, as a form of hydrogen, has no binding energy. the isotope deuterium, a proton and a neutron that underwent fusion would release a small amount of binding energy Added to another deuterium nucleus to make helium a much larger amount of energy would be released As elements get heavier differences in binding energy become smaller Beyond iron atoms get so heavy they release energy not as they grow but as they break apart. When uranium undergoes fission to turn into an element like barium, it releases a tiny bit of energy. This is far less than the energy released as hydrogen combines into helium. This makes the fusion of small elements a far more impressive potential source of energy than the fission of big ones. Let's see just how much energy. Instead of combining two deuterium particles, a more practical process involves sticking together a deuterium and another hydrogen isotope called tritium, which has two neutrons instead of one. The product is a helium nucleus and a single spare neutron. The mass of a single atom of deuterium can be rounded off to about 3.345 times 10 to the negative 27 kilograms. The mass of the tritium is about 5.01 times 10 to the minus 27 kilograms. Both masses add up to 8.355 x 10 to the minus 27 kilograms. But in the form of helium, plus a free neutron, the total mass is just 8.324 x 10 to the negative 27 kilograms. A tiny 3 x 10 to the negative 29 kilograms of mass seems to vanish Remember Einstein famous equation equals mass times a super huge number the speed of light squared If we mixed 2 kilograms of deuterium with 3 of tritium roughly 20 grams of mass would become other forms of energy The difference between the reactants and the products would release 1.8 times 10 to the power of 15 joules as heat. That's enough to power about 50,000 homes for a year. Unfortunately, unlocking any of it requires technology that can mimic the processes at work inside stars. Usually, intense gravity would provide the energy needed to force nucleons together. The good news is we can do the same job on Earth using heat. The bad news? The temperature required is over 100 million degrees Celsius. That's about seven times hotter than the interior of the Sun. Nuclear fusion was conceived as a possible energy source in the 1930s. Since then, researchers have investigated a number of approaches for heating a gas made of small elements, such as deuterium, to the point they sustainably undergo fusion. Two of the most promising forms of technology involve heating up a ring of gas called a plasma inside a donut-shaped tube called a torus. Plasma isn't exactly easy to control. Not only does it squirm like a ring of jelly, but its super-hot charged particles will quickly cool once they touch any surface. To keep the plasma hovering in place, two types of reactor use magnetic fields. Stellarator reactors use banks of magnetic coils to manage this task Germany Wendelstein 7X is leading the way in research on this form of fusion reactor Its magnetic coils make the plasma easier to control, but at a cost. It's a lot harder to reach the high temperatures required. In contrast, tokamak reactors use the electromagnetic fields produced by the plasma. plasma. This is a lot more complicated, but can allow for more efficient heating. In 2018, China's experimental advanced superconducting tokamak reached the all-important 100 million degrees required for fusion. In southern France, the International Thermonuclear Experimental Reactor has been looking for ways to refine the fusion process. It hopes to be reproducing plasma using tokamak technology by 2025. While a milestone in temperature is good news for fusion, for net power to be produced, this heat needs to be sustained for long periods. It's a goal well worth pursuing. Compared with the uranium needed for fission, the fuel for fusion is much easier to collect. The hydrogen isotope deuterium can be extracted extracted from seawater using hydrolysis. Tritium is another isotope of hydrogen with two neutrons and one proton. It's much harder to find on Earth, but could still be made by bombarding lithium with neutrons, or separated from water in a heavy water-cooled reactor. Either way, the end product of fusion is helium. No greenhouse gases or significant amounts of radioactive waste are produced, making fusion an appealing choice in green power.\n"
     ]
    }
   ],
   "source": [
    "with open(transcripted_file_info.transcript_path, 'r', encoding='utf-8') as f:\n",
    "    transcription_data = json.load(f)\n",
    "    print(transcription_data['text'])"
   ]
  },
  {
   "cell_type": "code",
   "execution_count": 35,
   "id": "419fb912",
   "metadata": {},
   "outputs": [
    {
     "name": "stdout",
     "output_type": "stream",
     "text": [
      "deepseek-r1-distill-qwen-32b\n"
     ]
    }
   ],
   "source": [
    "from langchain_core.documents import Document\n",
    "from langchain.text_splitter import RecursiveCharacterTextSplitter\n",
    "from langchain_core.prompts import ChatPromptTemplate\n",
    "from langchain.chat_models import init_chat_model\n",
    "# from langchain_core.output_parsers import JsonOutputParser\n",
    "from dotenv import load_dotenv\n",
    "load_dotenv()\n",
    "os.environ[\"GROQ_API_KEY\"] = os.getenv(\"GROQ_API_KEY\")\n",
    "chat_model_name = os.getenv('CHAT_MODEL')\n",
    "\n",
    "print(chat_model_name)\n",
    "def summarize_transcript(transcript_text):\n",
    "    # Create a Document object\n",
    "    document = Document(page_content=transcript_text)\n",
    "\n",
    "    # For longer transcripts, split into chunks\n",
    "    text_splitter = RecursiveCharacterTextSplitter(\n",
    "        chunk_size=4000,\n",
    "        chunk_overlap=400\n",
    "    )\n",
    "    docs = text_splitter.split_documents([document])\n",
    "\n",
    "    llm= init_chat_model(model=chat_model_name, model_provider=\"groq\")\n",
    "\n",
    "    summary_prompt = ChatPromptTemplate.from_messages([\n",
    "        (\"system\", \"You are an expert summarizer. Create a concise summary of the following transcript from a YouTube video:\\n\\n{text}\")\n",
    "    ])\n",
    "\n",
    "    # For shorter transcripts: use the \"stuff\" method\n",
    "    if len(docs) == 1:\n",
    "        chain = summary_prompt | llm\n",
    "        summary = chain.invoke({\"text\": transcript_text})\n",
    "        return summary.content\n",
    "\n",
    "    # For longer transcripts: use map-reduce\n",
    "    else:\n",
    "        # First summarize each chunk\n",
    "        map_prompt = ChatPromptTemplate.from_messages([\n",
    "            (\"system\", \"Summarize this part of a transcript:\\n\\n{text}\")\n",
    "        ])\n",
    "        map_chain = map_prompt | llm\n",
    "\n",
    "        interim_summaries = []\n",
    "        for doc in docs:\n",
    "            interim_summary = map_chain.invoke({\"text\": doc.page_content})\n",
    "            interim_summaries.append(interim_summary.content)\n",
    "\n",
    "        # Then combine the summaries\n",
    "        reduce_prompt = ChatPromptTemplate.from_messages([\n",
    "            (\"system\", \"Combine these partial summaries into a coherent overall summary:\\n\\n{summaries}\")\n",
    "        ])\n",
    "        reduce_chain = reduce_prompt | llm\n",
    "\n",
    "        final_summary = reduce_chain.invoke({\"summaries\": \"\\n\\n\".join(interim_summaries)})\n",
    "        return final_summary.content"
   ]
  },
  {
   "cell_type": "code",
   "execution_count": 36,
   "id": "a96eb252",
   "metadata": {},
   "outputs": [
    {
     "data": {
      "text/plain": [
       "\"<think>\\nOkay, I need to help the user by summarizing a part of a transcript about fusion reactors. Let me start by reading the provided content carefully.\\n\\nThe content talks about the challenges of controlling plasma in fusion reactors and introduces two main types: stellarators and tokamaks. It gives examples like Germany's Wendelstein 7X and China's EAST. It mentions ITER's goal to refine tokamak technology. The benefits of fusion include using abundant fuel sources and producing minimal waste.\\n\\nI should structure the summary to cover the key points: types of reactors, their challenges, recent achievements, fuel sources, and environmental benefits. I'll keep it concise, using bullet points or a numbered list for clarity.\\n\\nI need to make sure the summary is easy to understand, avoiding too much jargon, but still accurate. I'll highlight the differences between stellarators and tokamaks, recent advancements, and why fusion is a promising energy source.\\n\\nLet me draft the summary, ensuring each main point is clearly addressed without unnecessary details.\\n</think>\\n\\nThe transcript discusses the challenges of controlling plasma in fusion reactors and the two main types of reactors used: stellarators and tokamaks. Stellarators, such as Germany's Wendelstein 7X, use magnetic coils but face difficulty reaching high temperatures. Tokamaks, like China's EAST, use electromagnetic confinement for efficient heating but are more complex. The ITER project aims to advance tokamak technology for sustained plasma by 2025. Fusion's advantages include using abundant fuel sources (deuterium from seawater and tritium from lithium) and producing minimal waste, making it a promising green energy option.\""
      ]
     },
     "execution_count": 36,
     "metadata": {},
     "output_type": "execute_result"
    }
   ],
   "source": [
    "summarize_transcript(transcription_data['text'])"
   ]
  },
  {
   "cell_type": "code",
   "execution_count": null,
   "id": "84d29794",
   "metadata": {},
   "outputs": [],
   "source": [
    "# The transcript discusses the challenges of controlling plasma in fusion reactors and the two main types of reactors used: stellarators and tokamaks. Stellarators, such as Germany's Wendelstein 7X, use magnetic coils but face difficulty reaching high temperatures. Tokamaks, like China's EAST, use electromagnetic confinement for efficient heating but are more complex. The ITER project aims to advance tokamak technology for sustained plasma by 2025. Fusion's advantages include using abundant fuel sources (deuterium from seawater and tritium from lithium) and producing minimal waste, making it a promising green energy option."
   ]
  },
  {
   "cell_type": "code",
   "execution_count": null,
   "id": "dc489732",
   "metadata": {},
   "outputs": [],
   "source": []
  }
 ],
 "metadata": {
  "kernelspec": {
   "display_name": "cloudspace",
   "language": "python",
   "name": "python3"
  },
  "language_info": {
   "codemirror_mode": {
    "name": "ipython",
    "version": 3
   },
   "file_extension": ".py",
   "mimetype": "text/x-python",
   "name": "python",
   "nbconvert_exporter": "python",
   "pygments_lexer": "ipython3",
   "version": "3.12.9"
  }
 },
 "nbformat": 4,
 "nbformat_minor": 5
}
