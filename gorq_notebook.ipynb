{
 "cells": [
  {
   "cell_type": "code",
   "execution_count": 20,
   "id": "f6ca7701",
   "metadata": {},
   "outputs": [],
   "source": [
    "import os\n",
    "import json\n",
    "import time\n",
    "from groq import Groq\n",
    "from dotenv import load_dotenv\n",
    "load_dotenv()\n",
    "\n",
    "client = Groq()"
   ]
  },
  {
   "cell_type": "code",
   "execution_count": 21,
   "id": "0f8b14a2",
   "metadata": {},
   "outputs": [
    {
     "name": "stderr",
     "output_type": "stream",
     "text": [
      "/home/zeus/miniconda3/envs/cloudspace/lib/python3.12/site-packages/pydantic/_internal/_config.py:373: UserWarning: Valid config keys have changed in V2:\n",
      "* 'orm_mode' has been renamed to 'from_attributes'\n",
      "  warnings.warn(message, UserWarning)\n"
     ]
    }
   ],
   "source": [
    "from pydantic import BaseModel, field_validator\n",
    "from typing import Optional\n",
    "import os\n",
    "import time\n",
    "from enum import Enum\n",
    "from uuid import uuid4\n",
    "\n",
    "\n",
    "class MediaType(str, Enum):\n",
    "    \"\"\"Types of media that can be downloaded.\"\"\"\n",
    "    AUDIO = \"audio\"\n",
    "    \n",
    "class YouTubeDownloadConfig(BaseModel):\n",
    "    \"\"\"Configuration for YouTube download operations.\"\"\"\n",
    "    url: str\n",
    "    media_type: MediaType = MediaType.AUDIO\n",
    "    output_directory: str = \"downloads\"\n",
    "    output_filename: Optional[str] = None\n",
    "    \n",
    "    @field_validator('url')\n",
    "    def validate_youtube_url(cls, v):\n",
    "        if 'youtube.com' not in v and 'youtu.be' not in v:\n",
    "            raise ValueError('URL must be a valid YouTube URL')\n",
    "        return v\n",
    "    \n",
    "\n",
    "class YouTubeMedia(BaseModel):\n",
    "    \"\"\"Model to store YouTube media metadata and file paths.\"\"\"\n",
    "    title: str\n",
    "    author: str\n",
    "    audio_path: Optional[str] = None\n",
    "    transcript_path: Optional[str] = None\n",
    "    \n",
    "    class Config:\n",
    "        orm_mode = True  # For future ORM integration"
   ]
  },
  {
   "cell_type": "code",
   "execution_count": 22,
   "id": "ee27fcca",
   "metadata": {},
   "outputs": [],
   "source": [
    "from pytubefix import YouTube\n",
    "from pytubefix.cli import on_progress\n",
    "\n",
    "class YouTubeDownloader:\n",
    "    \"\"\"Class to handle downloading YouTube videos and audio.\"\"\"\n",
    "    \n",
    "    def __init__(self, config: YouTubeDownloadConfig):\n",
    "        self.config = config\n",
    "        self.yt = YouTube(config.url, on_progress_callback=on_progress)\n",
    "    \n",
    "    def _get_filename(self):\n",
    "        \"\"\"Generate a random name for the audio file and ensure the directory exists.\"\"\"\n",
    "        if not os.path.exists(self.config.output_directory):\n",
    "            os.makedirs(self.config.output_directory, exist_ok=True)\n",
    "        \n",
    "        filename = f\"{uuid4()}.mp3\"\n",
    "        return self.config.output_directory, filename\n",
    "\n",
    "\n",
    "    def __download_audio_file(self):\n",
    "        audio_stream = self.yt.streams.filter(only_audio=True).order_by('abr').last()\n",
    "        output_path, filename = self._get_filename()\n",
    "\n",
    "        print(f\"Downloading audio: {self.yt.title}\")\n",
    "        audio_stream.download(output_path=output_path, filename=filename)\n",
    "        \n",
    "        final_audio_path = os.path.join(output_path, filename)\n",
    "        print(f\"Audio saved to: {final_audio_path}\")\n",
    "    \n",
    "        return final_audio_path\n",
    "        \n",
    "\n",
    "    def get_audio(self) -> YouTubeMedia:\n",
    "        \"\"\"Extract metadata from YouTube video.\"\"\"\n",
    "        try:\n",
    "\n",
    "            return YouTubeMedia(\n",
    "                title=self.yt.title,\n",
    "                author=self.yt.author,\n",
    "                audio_path=self.__download_audio_file(),\n",
    "                transcript_path=None\n",
    "            )\n",
    "        except Exception as e:\n",
    "            print(f\"Error: {e}\")\n",
    "            return None\n"
   ]
  },
  {
   "cell_type": "code",
   "execution_count": 23,
   "id": "f3816f71",
   "metadata": {},
   "outputs": [],
   "source": [
    "audio_downloder = YouTubeDownloader(\n",
    "    YouTubeDownloadConfig(\n",
    "        url=\"https://youtu.be/Hy8fB32GZoc?si=HWcKu2GlK4owxx3f\",\n",
    "        media_type=MediaType.AUDIO,\n",
    "    )\n",
    ")\n"
   ]
  },
  {
   "cell_type": "code",
   "execution_count": 24,
   "id": "b28de891",
   "metadata": {},
   "outputs": [
    {
     "name": "stdout",
     "output_type": "stream",
     "text": [
      "Downloading audio: Nuclear Fusion Explained\n",
      "Audio saved to: downloads/8bce825a-a4c5-4fae-8ba7-e4fa57dd168c.mp3\n"
     ]
    }
   ],
   "source": [
    "file_info = audio_downloder.get_audio()"
   ]
  },
  {
   "cell_type": "code",
   "execution_count": 25,
   "id": "ac9b3f1e",
   "metadata": {},
   "outputs": [
    {
     "data": {
      "text/plain": [
       "YouTubeMedia(title='Nuclear Fusion Explained', author='ClickView', audio_path='downloads/8bce825a-a4c5-4fae-8ba7-e4fa57dd168c.mp3', transcript_path=None)"
      ]
     },
     "execution_count": 25,
     "metadata": {},
     "output_type": "execute_result"
    }
   ],
   "source": [
    "file_info"
   ]
  },
  {
   "cell_type": "code",
   "execution_count": null,
   "id": "6815b35c",
   "metadata": {},
   "outputs": [],
   "source": []
  },
  {
   "cell_type": "code",
   "execution_count": null,
   "id": "b724e46a",
   "metadata": {},
   "outputs": [],
   "source": []
  }
 ],
 "metadata": {
  "kernelspec": {
   "display_name": "cloudspace",
   "language": "python",
   "name": "python3"
  },
  "language_info": {
   "codemirror_mode": {
    "name": "ipython",
    "version": 3
   },
   "file_extension": ".py",
   "mimetype": "text/x-python",
   "name": "python",
   "nbconvert_exporter": "python",
   "pygments_lexer": "ipython3",
   "version": "3.12.9"
  }
 },
 "nbformat": 4,
 "nbformat_minor": 5
}
